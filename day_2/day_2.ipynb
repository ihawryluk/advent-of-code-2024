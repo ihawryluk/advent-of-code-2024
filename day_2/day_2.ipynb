{
 "cells": [
  {
   "cell_type": "code",
   "execution_count": 3,
   "metadata": {},
   "outputs": [],
   "source": [
    "import numpy as np"
   ]
  },
  {
   "cell_type": "code",
   "execution_count": 4,
   "metadata": {},
   "outputs": [],
   "source": [
    "test = \"\"\"\n",
    "7 6 4 2 1\n",
    "1 2 7 8 9\n",
    "9 7 6 2 1\n",
    "1 3 2 4 5\n",
    "8 6 4 4 1\n",
    "1 3 6 7 9\n",
    "\"\"\""
   ]
  },
  {
   "cell_type": "markdown",
   "metadata": {},
   "source": [
    "# Part One"
   ]
  },
  {
   "cell_type": "code",
   "execution_count": 54,
   "metadata": {},
   "outputs": [],
   "source": [
    "def get_diffs(row):\n",
    "    diffs = np.diff(row)\n",
    "    return diffs\n",
    "\n",
    "def check_if_all_same_sign(row):\n",
    "    # chek if all are positive\n",
    "    if np.all(row > 0):\n",
    "        if np.all(row <= 3):\n",
    "            return True\n",
    "        return False\n",
    "    if np.all(row < 0):\n",
    "        if np.all(row >= -3):\n",
    "            return True\n",
    "        return False\n",
    "    return False\n",
    "\n",
    "\n",
    "def check_all_rows(arr):\n",
    "    counter = 0\n",
    "    for i in range(arr.shape[0]):\n",
    "        counter += int(check_if_all_same_sign(arr[i,:]))\n",
    "    return counter\n",
    "\n",
    "def is_row_safe(row):\n",
    "    diffs = get_diffs(row)\n",
    "    return check_if_all_same_sign(diffs)\n",
    "\n",
    "    \n",
    "def get_total_number_of_safe(input_file):\n",
    "    counter = 0\n",
    "    with open(input_file, 'r') as file:\n",
    "        for line in file:\n",
    "            row = np.array(list(map(int, line.split())))\n",
    "            counter += int(is_row_safe(row))\n",
    "    return counter\n",
    "\n",
    "    "
   ]
  },
  {
   "cell_type": "code",
   "execution_count": 51,
   "metadata": {},
   "outputs": [
    {
     "name": "stdout",
     "output_type": "stream",
     "text": [
      "7 6 4 2 1\n",
      "\n",
      "[7 6 4 2 1]\n",
      "1 2 7 8 9\n",
      "\n",
      "[1 2 7 8 9]\n",
      "9 7 6 2 1\n",
      "\n",
      "[9 7 6 2 1]\n",
      "1 3 2 4 5\n",
      "\n",
      "[1 3 2 4 5]\n",
      "8 6 4 4 1\n",
      "\n",
      "[8 6 4 4 1]\n",
      "1 3 6 7 9\n",
      "[1 3 6 7 9]\n"
     ]
    },
    {
     "data": {
      "text/plain": [
       "2"
      ]
     },
     "execution_count": 51,
     "metadata": {},
     "output_type": "execute_result"
    }
   ],
   "source": [
    "get_total_number_of_safe('test.txt')"
   ]
  },
  {
   "cell_type": "code",
   "execution_count": 56,
   "metadata": {},
   "outputs": [
    {
     "data": {
      "text/plain": [
       "252"
      ]
     },
     "execution_count": 56,
     "metadata": {},
     "output_type": "execute_result"
    }
   ],
   "source": [
    "get_total_number_of_safe('input.txt')"
   ]
  },
  {
   "cell_type": "markdown",
   "metadata": {},
   "source": [
    "# Part two"
   ]
  },
  {
   "cell_type": "code",
   "execution_count": 125,
   "metadata": {},
   "outputs": [],
   "source": [
    "def is_row_safe_with_dampener(row):\n",
    "    diffs = get_diffs(row)\n",
    "    if check_if_all_same_sign(diffs):\n",
    "        return True\n",
    "    else:\n",
    "        return dampener(row)\n",
    "\n",
    "def dampener(row):\n",
    "    diffs = get_diffs(row)\n",
    "\n",
    "    answer = False\n",
    "    # assume the row is increasing\n",
    "    for i in range(len(row)-1):\n",
    "        if (row[i+1] - row[i] <= 0 or row[i+1] - row[i] > 3):\n",
    "            new_row = np.delete(row, i)\n",
    "            #print(is_row_safe(new_row))\n",
    "            answer = is_row_safe(new_row)\n",
    "            if answer == False:\n",
    "                new_row = np.delete(row, i+1)\n",
    "                answer = is_row_safe(new_row)\n",
    "    if answer:\n",
    "        return answer\n",
    "\n",
    "    # assume the row is decreasing\n",
    "    for i in range(len(row)-1):\n",
    "        if (row[i+1] - row[i] >= 0 or row[i+1] - row[i] < -3):\n",
    "            new_row = np.delete(row, i)\n",
    "            #print(is_row_safe(new_row))\n",
    "            answer = is_row_safe(new_row)\n",
    "            if answer == False:\n",
    "                new_row = np.delete(row, i+1)\n",
    "                answer = is_row_safe(new_row)\n",
    "    return answer\n",
    "\n",
    "\n",
    "def get_total_number_of_safe_with_dampener(input_file):\n",
    "    counter = 0\n",
    "    with open(input_file, 'r') as file:\n",
    "        for line in file:\n",
    "            row = np.array(list(map(int, line.split())))\n",
    "            counter += int(is_row_safe_with_dampener(row))\n",
    "    return counter"
   ]
  },
  {
   "cell_type": "code",
   "execution_count": 123,
   "metadata": {},
   "outputs": [
    {
     "data": {
      "text/plain": [
       "4"
      ]
     },
     "execution_count": 123,
     "metadata": {},
     "output_type": "execute_result"
    }
   ],
   "source": [
    "get_total_number_of_safe_with_dampener('test.txt')"
   ]
  },
  {
   "cell_type": "code",
   "execution_count": 124,
   "metadata": {},
   "outputs": [
    {
     "data": {
      "text/plain": [
       "324"
      ]
     },
     "execution_count": 124,
     "metadata": {},
     "output_type": "execute_result"
    }
   ],
   "source": [
    "get_total_number_of_safe_with_dampener('input.txt')"
   ]
  },
  {
   "cell_type": "code",
   "execution_count": null,
   "metadata": {},
   "outputs": [],
   "source": []
  },
  {
   "cell_type": "code",
   "execution_count": null,
   "metadata": {},
   "outputs": [],
   "source": []
  }
 ],
 "metadata": {
  "kernelspec": {
   "display_name": "aoc",
   "language": "python",
   "name": "python3"
  },
  "language_info": {
   "codemirror_mode": {
    "name": "ipython",
    "version": 3
   },
   "file_extension": ".py",
   "mimetype": "text/x-python",
   "name": "python",
   "nbconvert_exporter": "python",
   "pygments_lexer": "ipython3",
   "version": "3.13.0"
  }
 },
 "nbformat": 4,
 "nbformat_minor": 2
}
