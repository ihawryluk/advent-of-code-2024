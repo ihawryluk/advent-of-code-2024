{
 "cells": [
  {
   "cell_type": "code",
   "execution_count": 1,
   "metadata": {},
   "outputs": [],
   "source": [
    "import re\n",
    "import numpy as np"
   ]
  },
  {
   "cell_type": "markdown",
   "metadata": {},
   "source": [
    "# Part one"
   ]
  },
  {
   "cell_type": "code",
   "execution_count": 101,
   "metadata": {},
   "outputs": [],
   "source": [
    "test_input = \"\"\"MMMSXXMASM\n",
    "MSAMXMSMSA\n",
    "AMXSXMAAMM\n",
    "MSAMASMSMX\n",
    "XMASAMXAMM\n",
    "XXAMMXXAMA\n",
    "SMSMSASXSS\n",
    "SAXAMASAAA\n",
    "MAMMMXMMMM\n",
    "MXMXAXMASX\"\"\""
   ]
  },
  {
   "cell_type": "code",
   "execution_count": 102,
   "metadata": {},
   "outputs": [
    {
     "data": {
      "text/plain": [
       "'MMMSXXMASM\\nMSAMXMSMSA\\nAMXSXMAAMM\\nMSAMASMSMX\\nXMASAMXAMM\\nXXAMMXXAMA\\nSMSMSASXSS\\nSAXAMASAAA\\nMAMMMXMMMM\\nMXMXAXMASX'"
      ]
     },
     "execution_count": 102,
     "metadata": {},
     "output_type": "execute_result"
    }
   ],
   "source": [
    "test_input"
   ]
  },
  {
   "cell_type": "code",
   "execution_count": 104,
   "metadata": {},
   "outputs": [],
   "source": [
    "def convert_str_to_array(input):\n",
    "    n_rows = input.count('\\n') + 1\n",
    "    n_cols = input.find('\\n')\n",
    "    input_no_breaks = input.replace('\\n', '')\n",
    "    arr = np.asarray(list(input_no_breaks)).reshape(n_rows,n_cols)\n",
    "    return arr\n",
    "\n",
    "def find_X(arr):\n",
    "    return np.argwhere(arr == 'X')\n",
    "\n",
    "def find_surrounding_M(arr, xloc):\n",
    "\n",
    "    m_indices = []\n",
    "\n",
    "    xloc_x = int(xloc[0])\n",
    "    xloc_y = int(xloc[1])\n",
    "    # row higher\n",
    "    idx_to_check_higher = [(xloc_x + 1, xloc_y - 1), (xloc_x + 1, xloc_y), (xloc_x + 1, xloc_y + 1)]\n",
    "    # same row\n",
    "    idx_to_check_same = [(xloc_x, xloc_y - 1), (xloc_x, xloc_y + 1)]\n",
    "    # row below\n",
    "    idx_to_check_lower = [(xloc_x - 1, xloc_y - 1), (xloc_x - 1, xloc_y), (xloc_x - 1, xloc_y + 1)]\n",
    "\n",
    "    all_idc_to_check = idx_to_check_higher + idx_to_check_same + idx_to_check_lower\n",
    "    # print('all_indices', all_idc_to_check)\n",
    "    for idx in all_idc_to_check:\n",
    "        if arr[idx] == 'M':\n",
    "            m_indices.append(idx)\n",
    "    \n",
    "    return m_indices\n",
    "\n",
    "def check_if_xmas(arr, xloc, mloc):\n",
    "    row_dir = mloc[0] - xloc[0]\n",
    "    col_dir = mloc[1] - xloc[1]\n",
    "    a_idx = (mloc[0] + row_dir, mloc[1] + col_dir)\n",
    "    s_idx = (a_idx[0] + row_dir, a_idx[1] + col_dir)\n",
    "    if arr[a_idx] == 'A':\n",
    "        if arr[s_idx] == 'S':\n",
    "            return True\n",
    "    return False\n",
    "\n",
    "def count_xmas(arr, all_x_loc):\n",
    "    counter = 0\n",
    "    for idx in all_x_loc:\n",
    "        m_indices = find_surrounding_M(arr, idx)\n",
    "        for midx in m_indices:\n",
    "            counter += int(check_if_xmas(arr, idx, midx))\n",
    "    return counter\n",
    "\n",
    "def do_whole_task(input):\n",
    "    arr = convert_str_to_array(input)\n",
    "    arr = np.pad(arr,1)\n",
    "    all_x_locs = find_X(arr)\n",
    "    xmas_count = count_xmas(arr, all_x_locs)\n",
    "    return xmas_count\n"
   ]
  },
  {
   "cell_type": "code",
   "execution_count": 105,
   "metadata": {},
   "outputs": [
    {
     "data": {
      "text/plain": [
       "18"
      ]
     },
     "execution_count": 105,
     "metadata": {},
     "output_type": "execute_result"
    }
   ],
   "source": [
    "do_whole_task(test_input)"
   ]
  },
  {
   "cell_type": "code",
   "execution_count": 106,
   "metadata": {},
   "outputs": [],
   "source": [
    "with open('input.txt', 'r') as file:\n",
    "    input_str = file.read()\n"
   ]
  },
  {
   "cell_type": "code",
   "execution_count": 108,
   "metadata": {},
   "outputs": [
    {
     "data": {
      "text/plain": [
       "2583"
      ]
     },
     "execution_count": 108,
     "metadata": {},
     "output_type": "execute_result"
    }
   ],
   "source": [
    "do_whole_task(input_str[:-1])"
   ]
  },
  {
   "cell_type": "code",
   "execution_count": null,
   "metadata": {},
   "outputs": [],
   "source": []
  }
 ],
 "metadata": {
  "kernelspec": {
   "display_name": "aoc",
   "language": "python",
   "name": "python3"
  },
  "language_info": {
   "codemirror_mode": {
    "name": "ipython",
    "version": 3
   },
   "file_extension": ".py",
   "mimetype": "text/x-python",
   "name": "python",
   "nbconvert_exporter": "python",
   "pygments_lexer": "ipython3",
   "version": "3.13.0"
  }
 },
 "nbformat": 4,
 "nbformat_minor": 2
}
