{
 "cells": [
  {
   "cell_type": "code",
   "execution_count": 90,
   "metadata": {},
   "outputs": [],
   "source": [
    "import numpy as np\n",
    "from itertools import cycle\n"
   ]
  },
  {
   "cell_type": "markdown",
   "metadata": {},
   "source": [
    "# Part one"
   ]
  },
  {
   "cell_type": "code",
   "execution_count": 11,
   "metadata": {},
   "outputs": [],
   "source": [
    "test_input = \"\"\"\n",
    "....#.....\n",
    ".........#\n",
    "..........\n",
    "..#.......\n",
    ".......#..\n",
    "..........\n",
    ".#..^.....\n",
    "........#.\n",
    "#.........\n",
    "......#...\n",
    "\"\"\""
   ]
  },
  {
   "cell_type": "code",
   "execution_count": 12,
   "metadata": {},
   "outputs": [
    {
     "data": {
      "text/plain": [
       "'....#.....\\n.........#\\n..........\\n..#.......\\n.......#..\\n..........\\n.#..^.....\\n........#.\\n#.........\\n......#...\\n'"
      ]
     },
     "execution_count": 12,
     "metadata": {},
     "output_type": "execute_result"
    }
   ],
   "source": [
    "test_input = test_input[1:]\n",
    "test_input"
   ]
  },
  {
   "cell_type": "code",
   "execution_count": 18,
   "metadata": {},
   "outputs": [],
   "source": [
    "clockwise_list = iter(['up', 'right', 'down', 'left'])\n",
    "direction = next(clockwise_list)"
   ]
  },
  {
   "cell_type": "code",
   "execution_count": 19,
   "metadata": {},
   "outputs": [
    {
     "data": {
      "text/plain": [
       "'up'"
      ]
     },
     "execution_count": 19,
     "metadata": {},
     "output_type": "execute_result"
    }
   ],
   "source": [
    "direction"
   ]
  },
  {
   "cell_type": "code",
   "execution_count": 107,
   "metadata": {},
   "outputs": [],
   "source": [
    "def convert_str_to_array(input):\n",
    "    n_rows = input.count('\\n')\n",
    "    n_cols = input.find('\\n')\n",
    "    input_no_breaks = input.replace('\\n', '')\n",
    "    arr = np.asarray(list(input_no_breaks)).reshape(n_rows,n_cols)\n",
    "    return arr\n",
    "\n",
    "def single_step(arr, clockwise_list, direction, current_pos):\n",
    "    # print(current_pos)\n",
    "    current_pos_copy = tuple(current_pos)\n",
    "    row = current_pos_copy[0]\n",
    "    col = current_pos_copy[1]\n",
    "    new_row = int(row)\n",
    "    new_col = int(col)\n",
    "    match direction:\n",
    "        case 'up':\n",
    "            new_row -= 1\n",
    "        case 'right':\n",
    "            new_col += 1\n",
    "        case 'down':\n",
    "            new_row += 1\n",
    "        case 'left':\n",
    "            new_col -= 1\n",
    "    # print('did current pos change?', current_pos)\n",
    "    # left the room\n",
    "    if (new_row < 0 or new_row >= arr.shape[0]):\n",
    "        return (arr, clockwise_list, direction, False)\n",
    "    if (new_col < 0 or new_col >= arr.shape[1]):\n",
    "        return (arr, clockwise_list, direction, False)\n",
    "    next_loc = (new_row, new_col)\n",
    "    # obstacle\n",
    "    if arr[next_loc] == '#':\n",
    "        # change direction\n",
    "        direction = next(clockwise_list)\n",
    "        return (arr, clockwise_list, direction, current_pos)\n",
    "    # if previously unvisited, change char\n",
    "    if arr[next_loc] == '.':\n",
    "        arr[next_loc] = 'X'\n",
    "    return (arr, clockwise_list, direction, next_loc)\n",
    "\n",
    "def count_visited(arr):\n",
    "    return np.count_nonzero(arr == 'X')\n",
    "\n",
    "def whole_walk(arr):\n",
    "    current_pos = np.where(arr == '^')\n",
    "    clockwise_list = cycle(['up', 'right', 'down', 'left'])\n",
    "    direction = next(clockwise_list)\n",
    "    while current_pos:\n",
    "        arr, clockwise_list, direction, current_pos = single_step(arr, clockwise_list, direction, current_pos)\n",
    "    return arr\n",
    "\n",
    "def get_visited_rooms(input):\n",
    "    arr = convert_str_to_array(input)\n",
    "    initial_pos = np.where(arr == '^')\n",
    "    arr = whole_walk(arr)\n",
    "    arr[initial_pos] = 'X'\n",
    "    count = count_visited(arr)\n",
    "    return count\n",
    "    \n",
    "\n"
   ]
  },
  {
   "cell_type": "code",
   "execution_count": 92,
   "metadata": {},
   "outputs": [
    {
     "data": {
      "text/plain": [
       "array([['.', '.', '.', '.', '#', '.', '.', '.', '.', '.'],\n",
       "       ['.', '.', '.', '.', '.', '.', '.', '.', '.', '#'],\n",
       "       ['.', '.', '.', '.', '.', '.', '.', '.', '.', '.'],\n",
       "       ['.', '.', '#', '.', '.', '.', '.', '.', '.', '.'],\n",
       "       ['.', '.', '.', '.', '.', '.', '.', '#', '.', '.'],\n",
       "       ['.', '.', '.', '.', '.', '.', '.', '.', '.', '.'],\n",
       "       ['.', '#', '.', '.', '^', '.', '.', '.', '.', '.'],\n",
       "       ['.', '.', '.', '.', '.', '.', '.', '.', '#', '.'],\n",
       "       ['#', '.', '.', '.', '.', '.', '.', '.', '.', '.'],\n",
       "       ['.', '.', '.', '.', '.', '.', '#', '.', '.', '.']], dtype='<U1')"
      ]
     },
     "execution_count": 92,
     "metadata": {},
     "output_type": "execute_result"
    }
   ],
   "source": [
    "arr = convert_str_to_array(test_input)\n",
    "arr"
   ]
  },
  {
   "cell_type": "code",
   "execution_count": 95,
   "metadata": {},
   "outputs": [
    {
     "name": "stderr",
     "output_type": "stream",
     "text": [
      "/var/folders/54/3b51xmm152d5k0wf0kkh1n5w0000gp/T/ipykernel_39794/490718633.py:13: DeprecationWarning: Conversion of an array with ndim > 0 to a scalar is deprecated, and will error in future. Ensure you extract a single element from your array before performing this operation. (Deprecated NumPy 1.25.)\n",
      "  new_row = int(row)\n",
      "/var/folders/54/3b51xmm152d5k0wf0kkh1n5w0000gp/T/ipykernel_39794/490718633.py:14: DeprecationWarning: Conversion of an array with ndim > 0 to a scalar is deprecated, and will error in future. Ensure you extract a single element from your array before performing this operation. (Deprecated NumPy 1.25.)\n",
      "  new_col = int(col)\n"
     ]
    },
    {
     "data": {
      "text/plain": [
       "array([['.', '.', '.', '.', '#', '.', '.', '.', '.', '.'],\n",
       "       ['.', '.', '.', '.', 'X', 'X', 'X', 'X', 'X', '#'],\n",
       "       ['.', '.', '.', '.', 'X', '.', '.', '.', 'X', '.'],\n",
       "       ['.', '.', '#', '.', 'X', '.', '.', '.', 'X', '.'],\n",
       "       ['.', '.', 'X', 'X', 'X', 'X', 'X', '#', 'X', '.'],\n",
       "       ['.', '.', 'X', '.', 'X', '.', 'X', '.', 'X', '.'],\n",
       "       ['.', '#', 'X', 'X', '^', 'X', 'X', 'X', 'X', '.'],\n",
       "       ['.', 'X', 'X', 'X', 'X', 'X', 'X', 'X', '#', '.'],\n",
       "       ['#', 'X', 'X', 'X', 'X', 'X', 'X', 'X', '.', '.'],\n",
       "       ['.', '.', '.', '.', '.', '.', '#', 'X', '.', '.']], dtype='<U1')"
      ]
     },
     "execution_count": 95,
     "metadata": {},
     "output_type": "execute_result"
    }
   ],
   "source": [
    "whole_walk(arr)"
   ]
  },
  {
   "cell_type": "code",
   "execution_count": 105,
   "metadata": {},
   "outputs": [
    {
     "name": "stderr",
     "output_type": "stream",
     "text": [
      "/var/folders/54/3b51xmm152d5k0wf0kkh1n5w0000gp/T/ipykernel_39794/3585393228.py:13: DeprecationWarning: Conversion of an array with ndim > 0 to a scalar is deprecated, and will error in future. Ensure you extract a single element from your array before performing this operation. (Deprecated NumPy 1.25.)\n",
      "  new_row = int(row)\n",
      "/var/folders/54/3b51xmm152d5k0wf0kkh1n5w0000gp/T/ipykernel_39794/3585393228.py:14: DeprecationWarning: Conversion of an array with ndim > 0 to a scalar is deprecated, and will error in future. Ensure you extract a single element from your array before performing this operation. (Deprecated NumPy 1.25.)\n",
      "  new_col = int(col)\n"
     ]
    },
    {
     "data": {
      "text/plain": [
       "41"
      ]
     },
     "execution_count": 105,
     "metadata": {},
     "output_type": "execute_result"
    }
   ],
   "source": [
    "get_visited_rooms(test_input)"
   ]
  },
  {
   "cell_type": "code",
   "execution_count": 101,
   "metadata": {},
   "outputs": [],
   "source": [
    "with open('input.txt', 'r') as file:\n",
    "    input_str = file.read()\n"
   ]
  },
  {
   "cell_type": "code",
   "execution_count": 102,
   "metadata": {},
   "outputs": [
    {
     "data": {
      "text/plain": [
       "'.....#...#.........\\n'"
      ]
     },
     "execution_count": 102,
     "metadata": {},
     "output_type": "execute_result"
    }
   ],
   "source": [
    "input_str[-20:]"
   ]
  },
  {
   "cell_type": "code",
   "execution_count": 106,
   "metadata": {},
   "outputs": [
    {
     "name": "stderr",
     "output_type": "stream",
     "text": [
      "/var/folders/54/3b51xmm152d5k0wf0kkh1n5w0000gp/T/ipykernel_39794/3585393228.py:13: DeprecationWarning: Conversion of an array with ndim > 0 to a scalar is deprecated, and will error in future. Ensure you extract a single element from your array before performing this operation. (Deprecated NumPy 1.25.)\n",
      "  new_row = int(row)\n",
      "/var/folders/54/3b51xmm152d5k0wf0kkh1n5w0000gp/T/ipykernel_39794/3585393228.py:14: DeprecationWarning: Conversion of an array with ndim > 0 to a scalar is deprecated, and will error in future. Ensure you extract a single element from your array before performing this operation. (Deprecated NumPy 1.25.)\n",
      "  new_col = int(col)\n"
     ]
    },
    {
     "data": {
      "text/plain": [
       "4711"
      ]
     },
     "execution_count": 106,
     "metadata": {},
     "output_type": "execute_result"
    }
   ],
   "source": [
    "get_visited_rooms(input_str)"
   ]
  },
  {
   "cell_type": "code",
   "execution_count": null,
   "metadata": {},
   "outputs": [],
   "source": []
  }
 ],
 "metadata": {
  "kernelspec": {
   "display_name": "aoc",
   "language": "python",
   "name": "python3"
  },
  "language_info": {
   "codemirror_mode": {
    "name": "ipython",
    "version": 3
   },
   "file_extension": ".py",
   "mimetype": "text/x-python",
   "name": "python",
   "nbconvert_exporter": "python",
   "pygments_lexer": "ipython3",
   "version": "3.13.0"
  }
 },
 "nbformat": 4,
 "nbformat_minor": 2
}
